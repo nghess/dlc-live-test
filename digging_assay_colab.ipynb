{
  "nbformat": 4,
  "nbformat_minor": 0,
  "metadata": {
    "colab": {
      "name": "digging-assay-colab",
      "provenance": [],
      "collapsed_sections": [],
      "authorship_tag": "ABX9TyN3p645FAf/oT1TbkPBaRt/"
    },
    "kernelspec": {
      "name": "python3",
      "display_name": "Python 3"
    },
    "language_info": {
      "name": "python"
    },
    "accelerator": "GPU"
  },
  "cells": [
    {
      "cell_type": "code",
      "execution_count": null,
      "metadata": {
        "id": "MBHDq7lvv-7t"
      },
      "outputs": [],
      "source": [
        "# Install libraries\n",
        "!pip install 'deeplabcut'==2.2.1\n",
        "!pip install tf_slim"
      ]
    },
    {
      "cell_type": "code",
      "source": [
        "# Mount Google Drive\n",
        "from google.colab import drive\n",
        "drive.mount('/content/drive')"
      ],
      "metadata": {
        "colab": {
          "base_uri": "https://localhost:8080/"
        },
        "id": "IyhZ66Zk1Moa",
        "outputId": "32548d4a-fd65-4853-c8d4-3b49233d4f7a"
      },
      "execution_count": null,
      "outputs": [
        {
          "output_type": "stream",
          "name": "stdout",
          "text": [
            "Mounted at /content/drive\n"
          ]
        }
      ]
    },
    {
      "cell_type": "code",
      "metadata": {
        "id": "vhENAlQnFENJ",
        "colab": {
          "base_uri": "https://localhost:8080/"
        },
        "outputId": "3eca77f0-5ee1-41e1-e582-f711d6740269"
      },
      "source": [
        "#EDIT THESE AS NEEDED:\n",
        "ProjectFolderName = 'dlc-colab/maddie-digging/Digging Assay-Maddie-2022-06-13' \n",
        "VideoType = 'avi' \n",
        "\n",
        "\n",
        "videofile_path = ['/content/drive/My Drive/'+ProjectFolderName+'/videos'] #Enter the list of videos or folder to analyze.\n",
        "path_config_file = '/content/drive/My Drive/'+ProjectFolderName+'/config.yaml' # Path_config_file\n",
        "\n",
        "# Check that everything looks good\n",
        "print(videofile_path)\n",
        "print(path_config_file)"
      ],
      "execution_count": null,
      "outputs": [
        {
          "output_type": "execute_result",
          "data": {
            "text/plain": [
              "['/content/drive/My Drive/dlc-colab/maddie-digging/Digging Assay-Maddie-2022-06-13/videos']"
            ]
          },
          "metadata": {},
          "execution_count": 6
        }
      ]
    },
    {
      "cell_type": "code",
      "source": [
        "# Import libs and check version\n",
        "import deeplabcut\n",
        "import tensorflow\n",
        "print(tensorflow.__version__)\n",
        "print(deeplabcut.__version__)"
      ],
      "metadata": {
        "colab": {
          "base_uri": "https://localhost:8080/"
        },
        "id": "cSc2HDQ21bfa",
        "outputId": "4f5b5d0e-d0bc-4bbb-997c-2279e0c077ad"
      },
      "execution_count": null,
      "outputs": [
        {
          "output_type": "stream",
          "name": "stdout",
          "text": [
            "2.8.2\n",
            "2.2.1\n"
          ]
        }
      ]
    },
    {
      "cell_type": "code",
      "source": [
        "# Check which GPU and CUDA are running\n",
        "!nvidia-smi"
      ],
      "metadata": {
        "colab": {
          "base_uri": "https://localhost:8080/"
        },
        "id": "kl7G4u_QXLbe",
        "outputId": "1230c930-1eb6-4e28-e6c1-9453bb56b26b"
      },
      "execution_count": null,
      "outputs": [
        {
          "output_type": "stream",
          "name": "stdout",
          "text": [
            "Sat Jun 25 01:58:02 2022       \n",
            "+-----------------------------------------------------------------------------+\n",
            "| NVIDIA-SMI 460.32.03    Driver Version: 460.32.03    CUDA Version: 11.2     |\n",
            "|-------------------------------+----------------------+----------------------+\n",
            "| GPU  Name        Persistence-M| Bus-Id        Disp.A | Volatile Uncorr. ECC |\n",
            "| Fan  Temp  Perf  Pwr:Usage/Cap|         Memory-Usage | GPU-Util  Compute M. |\n",
            "|                               |                      |               MIG M. |\n",
            "|===============================+======================+======================|\n",
            "|   0  Tesla P100-PCIE...  Off  | 00000000:00:04.0 Off |                    0 |\n",
            "| N/A   47C    P0    33W / 250W |      0MiB / 16280MiB |      0%      Default |\n",
            "|                               |                      |                  N/A |\n",
            "+-------------------------------+----------------------+----------------------+\n",
            "                                                                               \n",
            "+-----------------------------------------------------------------------------+\n",
            "| Processes:                                                                  |\n",
            "|  GPU   GI   CI        PID   Type   Process name                  GPU Memory |\n",
            "|        ID   ID                                                   Usage      |\n",
            "|=============================================================================|\n",
            "|  No running processes found                                                 |\n",
            "+-----------------------------------------------------------------------------+\n"
          ]
        }
      ]
    },
    {
      "cell_type": "markdown",
      "source": [
        "##Create Training Dataset"
      ],
      "metadata": {
        "id": "w5s1qlnvBQ8n"
      }
    },
    {
      "cell_type": "code",
      "source": [
        "# Set the shuffle you want to create, train, evaluate, use for analysis.\n",
        "SHUF = 1"
      ],
      "metadata": {
        "id": "Dv1S_sRLBDtZ"
      },
      "execution_count": null,
      "outputs": []
    },
    {
      "cell_type": "code",
      "source": [
        "# There are a lot of other arguments for this function. Might be worth trying some variations. \n",
        "# DLC-Live appears to run faster using MobileNetV2-0.35 networks\n",
        "deeplabcut.create_training_dataset(path_config_file, net_type='resnet_50', augmenter_type='imgaug')"
      ],
      "metadata": {
        "id": "xNYbEThdBFoP"
      },
      "execution_count": null,
      "outputs": []
    },
    {
      "cell_type": "markdown",
      "source": [
        "##Train the Model"
      ],
      "metadata": {
        "id": "K5hhcfk7BOdf"
      }
    },
    {
      "cell_type": "code",
      "source": [
        "deeplabcut.train_network(path_config_file, shuffle=SHUF, displayiters=10, saveiters=500, maxiters=500000)"
      ],
      "metadata": {
        "id": "Ya0hV6SIBI1X"
      },
      "execution_count": null,
      "outputs": []
    },
    {
      "cell_type": "markdown",
      "source": [
        "###Evaluate"
      ],
      "metadata": {
        "id": "dWmdkUZ1BMeX"
      }
    },
    {
      "cell_type": "code",
      "source": [
        "deeplabcut.evaluate_network(path_config_file,Shuffles=[SHUF], plotting=False)"
      ],
      "metadata": {
        "id": "3xUK2gmNBU7d"
      },
      "execution_count": null,
      "outputs": []
    },
    {
      "cell_type": "markdown",
      "source": [
        "###Analyze"
      ],
      "metadata": {
        "id": "VEi6mj5jBYWW"
      }
    },
    {
      "cell_type": "code",
      "source": [
        "deeplabcut.analyze_videos(path_config_file, videofile_path, videotype=VideoType, shuffle=SHUF)"
      ],
      "metadata": {
        "id": "IB6DrJqeBZoO"
      },
      "execution_count": null,
      "outputs": []
    },
    {
      "cell_type": "markdown",
      "source": [
        "###Smooth"
      ],
      "metadata": {
        "id": "NBMbwkbTBeHO"
      }
    },
    {
      "cell_type": "code",
      "source": [
        "deeplabcut.filterpredictions(path_config_file, videofile_path, videotype=VideoType, shuffle=SHUF)"
      ],
      "metadata": {
        "id": "gBt-IjguBb5N"
      },
      "execution_count": null,
      "outputs": []
    },
    {
      "cell_type": "markdown",
      "source": [
        "###Plot Trajectories"
      ],
      "metadata": {
        "id": "erZDJAtJBg6O"
      }
    },
    {
      "cell_type": "code",
      "source": [
        "import matplotlib\n",
        "deeplabcut.plot_trajectories(path_config_file, videofile_path, videotype=VideoType, shuffle=SHUF, filtered=True)"
      ],
      "metadata": {
        "id": "bgoEuDHTBisd"
      },
      "execution_count": null,
      "outputs": []
    },
    {
      "cell_type": "markdown",
      "source": [
        "###Create Labeled Video\n"
      ],
      "metadata": {
        "id": "Wh1EdE4KBlQ2"
      }
    },
    {
      "cell_type": "code",
      "source": [
        "deeplabcut.create_labeled_video(path_config_file,videofile_path, videotype=VideoType, shuffle=SHUF, filtered=True)"
      ],
      "metadata": {
        "id": "4UNLzhWpBkqd"
      },
      "execution_count": null,
      "outputs": []
    }
  ]
}